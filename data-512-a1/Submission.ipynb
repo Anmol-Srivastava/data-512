{
 "cells": [
  {
   "cell_type": "markdown",
   "metadata": {},
   "source": [
    "# A1: Data Curation\n",
    "\n",
    "Anmol Srivastava\n",
    "\n",
    "## Overview\n",
    "\n",
    "This notebook provides all necessary code (and accompanying documentation) to replicate my submission for A1. This code constructs, processes, analyzes, and visualizes data regarding traffic on English Wikipedia over a given time period. For additional information about references and our final results, please see the README in this directory, as well as the LICENSE. \n",
    "\n",
    "\n",
    "## Step 1: Gathering Data\n",
    "\n",
    "This section is primarily for performing the API calls to access and store all relevant data. \n",
    "\n",
    "### Imports\n",
    "\n",
    "Before we get started, we have several libraries to import into our environment, for use in this section and later portions."
   ]
  },
  {
   "cell_type": "code",
   "execution_count": 82,
   "metadata": {},
   "outputs": [],
   "source": [
    "import json\n",
    "import requests\n",
    "import pandas as pd\n",
    "import matplotlib.pyplot as plt\n",
    "from matplotlib.lines import Line2D"
   ]
  },
  {
   "cell_type": "markdown",
   "metadata": {},
   "source": [
    "### Useful Constants\n",
    "\n",
    "Some values in our code (e.g., the URL strings for API call endpoints) are going to be used multiple times without being changed. We define and organize all such constants here.\n",
    "\n",
    "- `ENDPOINT_LEGACY`: formatted string, used to call API for \"pagecount\" queries\n",
    "- `ENDPOINT_PAGEVIEWS`: formatted string, used to call API for \"pageviews\" queries\"\n",
    "- `PROJECT`: parameter for API calls, never changes\n",
    "- `HEADERS`: metadata for GET request, IDs user, never changes"
   ]
  },
  {
   "cell_type": "code",
   "execution_count": 2,
   "metadata": {},
   "outputs": [],
   "source": [
    "ENDPOINT_LEGACY = 'https://wikimedia.org/api/rest_v1/metrics/legacy/pagecounts/aggregate/{project}/{access-site}/{granularity}/{start}/{end}'\n",
    "ENDPOINT_PAGEVIEWS = 'https://wikimedia.org/api/rest_v1/metrics/pageviews/aggregate/{project}/{access}/{agent}/{granularity}/{start}/{end}'\n",
    "PROJECT = 'en.wikipedia.org'\n",
    "HEADERS = {'User-Agent':'https://github.com/Anmol-Srivastava', 'From':'anmols@uw.edu'}"
   ]
  },
  {
   "cell_type": "markdown",
   "metadata": {},
   "source": [
    "### Useful Functions\n",
    "\n",
    "Similarly, some functions need to be reusable and modular, and are hence defined here.\n",
    "\n",
    "- `api_call()`: takes an endpoint (formatted string), and any additional arguments to perform an API query (as a dictionary), returns the JSON-format response for the API call"
   ]
  },
  {
   "cell_type": "code",
   "execution_count": 3,
   "metadata": {},
   "outputs": [],
   "source": [
    "def api_call(endpoint, query_params):\n",
    "    query_params['project'] = PROJECT\n",
    "    call = requests.get(endpoint.format(**query_params), headers=HEADERS)\n",
    "    response = call.json()\n",
    "    return response "
   ]
  },
  {
   "cell_type": "markdown",
   "metadata": {},
   "source": [
    "### Defining API Queries\n",
    "\n",
    "We define 5 queries (labelled below in the order they are called), pertaining to the 2 types of calls (desktop, mobile) using the Legacy API and 3 types (desktop, mobile web, mobile app) in the Pageviews API. \n",
    "\n",
    "#### Query 1\n",
    "\n",
    "Monthly desktop-access data from the Legacy API, from January 1, 2008 to July 31, 2016. "
   ]
  },
  {
   "cell_type": "code",
   "execution_count": 4,
   "metadata": {},
   "outputs": [],
   "source": [
    "legacy_desktop_params = {\n",
    "    'access-site':'desktop-site',\n",
    "    'granularity':'monthly',\n",
    "    'start':'2008010100',\n",
    "    'end':'2016073100'\n",
    "}\n",
    "\n",
    "legacy_desktop = api_call(ENDPOINT_LEGACY, legacy_desktop_params)"
   ]
  },
  {
   "cell_type": "markdown",
   "metadata": {},
   "source": [
    "#### Query 2\n",
    "\n",
    "Monthly mobile-access data from the Legacy API, from January 1, 2008 to July 31, 2016."
   ]
  },
  {
   "cell_type": "code",
   "execution_count": 7,
   "metadata": {},
   "outputs": [],
   "source": [
    "legacy_mobile_params = {\n",
    "    'access-site':'mobile-site',\n",
    "    'granularity':'monthly',\n",
    "    'start':'2008010100',\n",
    "    'end':'2016073100'\n",
    "}\n",
    "\n",
    "legacy_mobile = api_call(ENDPOINT_LEGACY, legacy_mobile_params)"
   ]
  },
  {
   "cell_type": "markdown",
   "metadata": {},
   "source": [
    "#### Query 3\n",
    "\n",
    "Monthly desktop-access data from the Pageviews API, from July 1, 2015 to August 31, 2020."
   ]
  },
  {
   "cell_type": "code",
   "execution_count": 8,
   "metadata": {},
   "outputs": [],
   "source": [
    "pageviews_desktop_params = {\n",
    "    'access':'desktop',\n",
    "    'agent':'user',\n",
    "    'granularity':'monthly',\n",
    "    'start':'2015070100',\n",
    "    'end':'2020083100'\n",
    "}\n",
    "\n",
    "pageviews_desktop = api_call(ENDPOINT_PAGEVIEWS, pageviews_desktop_params)"
   ]
  },
  {
   "cell_type": "markdown",
   "metadata": {},
   "source": [
    "#### Query 4\n",
    "\n",
    "Monthly mobile-web-access data from the Pageviews API, from July 1, 2015 to August 31, 2020. "
   ]
  },
  {
   "cell_type": "code",
   "execution_count": 9,
   "metadata": {},
   "outputs": [],
   "source": [
    "pageviews_mobileweb_params = {\n",
    "    'access':'mobile-web',\n",
    "    'agent':'user',\n",
    "    'granularity':'monthly',\n",
    "    'start':'2015070100',\n",
    "    'end':'2020083100'\n",
    "}\n",
    "\n",
    "pageviews_mobileweb = api_call(ENDPOINT_PAGEVIEWS, pageviews_mobileweb_params)"
   ]
  },
  {
   "cell_type": "markdown",
   "metadata": {},
   "source": [
    "#### Query 5\n",
    "\n",
    "Monthly mobile-app-access data from the Pageviews API, from July 1, 2015 to August 31, 2020."
   ]
  },
  {
   "cell_type": "code",
   "execution_count": 10,
   "metadata": {},
   "outputs": [],
   "source": [
    "pageviews_mobileapp_params = {\n",
    "    'access':'mobile-app',\n",
    "    'agent':'user',\n",
    "    'granularity':'monthly',\n",
    "    'start':'2015070100',\n",
    "    'end':'2020083100'\n",
    "}\n",
    "\n",
    "pageviews_mobileapp = api_call(ENDPOINT_PAGEVIEWS, pageviews_mobileapp_params)"
   ]
  },
  {
   "cell_type": "markdown",
   "metadata": {},
   "source": [
    "### Storing Responses\n",
    "\n",
    "We output our API call responses as JSON files in this directory, according to the following naming convention:\n",
    "\n",
    "`apiname_accesstype_yearfirstmonth_yearlastmonth.json`\n",
    "\n",
    "The filenames themselves are sufficient, but note that the following write commands are performed in the same order that the API calls were made (so the result of Query 1 is saved first below, etc.). "
   ]
  },
  {
   "cell_type": "code",
   "execution_count": 11,
   "metadata": {},
   "outputs": [],
   "source": [
    "with open('legacy_desktop_200801_201607.json', 'w') as f:\n",
    "    json.dump(legacy_desktop, f)\n",
    "\n",
    "with open('legacy_mobile_200801_201607.json', 'w') as f:\n",
    "    json.dump(legacy_mobile, f)\n",
    "    \n",
    "with open('pageviews_desktop_201507_202008.json', 'w') as f:\n",
    "    json.dump(pageviews_desktop, f)\n",
    "\n",
    "with open('pageviews_mobileweb_201507_202008.json', 'w') as f:\n",
    "    json.dump(pageviews_mobileweb, f)\n",
    "    \n",
    "with open('pageviews_mobileapp_201507_202008.json', 'w') as f:\n",
    "    json.dump(pageviews_mobileapp, f)"
   ]
  },
  {
   "cell_type": "markdown",
   "metadata": {},
   "source": [
    "## Step 2: Processing Data\n",
    "\n",
    "This section is for performing some processing steps on the JSON files and creating one overall CSV file, ready for analysis and visualization.\n",
    "\n",
    "### Reading Files\n",
    "\n",
    "We have the JSON objects already, but for completeness, we demonstrate reading them in from this repository. The variables assigned to each loaded JSON file are named exactly as in previous steps."
   ]
  },
  {
   "cell_type": "code",
   "execution_count": 12,
   "metadata": {},
   "outputs": [],
   "source": [
    "with open('legacy_desktop_200801_201607.json', 'r') as f:\n",
    "    legacy_desktop = json.load(f)\n",
    "\n",
    "with open('legacy_mobile_200801_201607.json', 'r') as f:\n",
    "    legacy_mobile = json.load(f)\n",
    "    \n",
    "with open('pageviews_desktop_201507_202008.json', 'r') as f:\n",
    "    pageviews_desktop = json.load(f)\n",
    "\n",
    "with open('pageviews_mobileweb_201507_202008.json', 'r') as f:\n",
    "    pageviews_mobileweb = json.load(f)\n",
    "    \n",
    "with open('pageviews_mobileapp_201507_202008.json', 'r') as f:\n",
    "    pageviews_mobileapp = json.load(f)"
   ]
  },
  {
   "cell_type": "markdown",
   "metadata": {},
   "source": [
    "### Merging Mobile Traffic Data (Pageviews API)\n",
    "\n",
    "Here we combine mobile-app and mobile-web data from the Pageviews API into a total mobile traffic count, per month. We achieve this by iterating through each month of available data in the separate datasets (app and web data should have the same number of months available), and adding the views while retaining all of the other common information. This is all fed into one, new variable."
   ]
  },
  {
   "cell_type": "code",
   "execution_count": 13,
   "metadata": {},
   "outputs": [],
   "source": [
    "assert len(pageviews_mobileweb['items']) == len(pageviews_mobileapp['items'])\n",
    "pageviews_mobile_items = []\n",
    "\n",
    "for i in range(len(pageviews_mobileweb['items'])):\n",
    "    new_item = pageviews_mobileweb['items'][i]\n",
    "    new_item['views'] = pageviews_mobileweb['items'][i]['views'] + pageviews_mobileapp['items'][i]['views']\n",
    "    pageviews_mobile_items.append(new_item)"
   ]
  },
  {
   "cell_type": "markdown",
   "metadata": {},
   "source": [
    "### Parsing Timestamps\n",
    "\n",
    "We separate the timestamp values for all data. Each timestamp value is split into year (YYYY numeric format), month (MM numeric format), with the more granular parts (day/hour) discarded. We do this by some simple string operations on each timestamp, since they were entered according to a rigid expected pattern and all follow a `YYYYMMDDHH` format. We do this in a reusable function as below.\n",
    "\n",
    "- `parse_item_list_timestamps()`: intakes a list of JSON objects (representing the items in an API query's response data), and returns the list with new versions of the objects, which have their `timestamp` attribute replaced with `year` and `month` counterparts"
   ]
  },
  {
   "cell_type": "code",
   "execution_count": 14,
   "metadata": {},
   "outputs": [],
   "source": [
    "def parse_item_list_timestamps(item_list):\n",
    "    new_item_list = []\n",
    "    for item in item_list:\n",
    "        item = item.copy()\n",
    "        timestamp = item['timestamp']\n",
    "        year = timestamp[0:4]\n",
    "        month = timestamp[4:6]\n",
    "        item['year'] = year\n",
    "        item['month'] = month\n",
    "        item.pop('timestamp')\n",
    "        new_item_list.append(item)\n",
    "    return new_item_list"
   ]
  },
  {
   "cell_type": "markdown",
   "metadata": {},
   "source": [
    "*__Note:__* We call this function on the query response variables' *__item lists__*, and clean up the variables by getting rid of their unnecessary dictionary notation (a result of the JSON format), and only keeping these item lists."
   ]
  },
  {
   "cell_type": "code",
   "execution_count": 15,
   "metadata": {},
   "outputs": [],
   "source": [
    "legacy_desktop_items = parse_item_list_timestamps(legacy_desktop['items'])\n",
    "legacy_mobile_items = parse_item_list_timestamps(legacy_mobile['items'])\n",
    "pageviews_desktop_items = parse_item_list_timestamps(pageviews_desktop['items'])\n",
    "pageviews_mobile_items = parse_item_list_timestamps(pageviews_mobile_items)"
   ]
  },
  {
   "cell_type": "markdown",
   "metadata": {},
   "source": [
    "### Combining All Data\n",
    "\n",
    "All data from the past queries and processing steps is put into one CSV file in this repository, named `en-wikipedia_traffic_200712-202008.csv`. In any of the views columns, when views total to 0 or are otherwise not represented in the original data, that column has value 0 in the given row. Combination is done through the `pandas` library, which allows for easy operations on tabular data and storage to external files.\n",
    "\n",
    "First, we define a function to transform the lists of items into table-ready lists.\n",
    "\n",
    "- `transform_item_list()`: intakes a list of JSON objects (from any query's response data), a string identifying the API source, and a string identifying the access type; returns the new versions of the items, which have been stripped and re-labeled to fit the desired CSV headers -- and finally transformed into a `pandas DataFrame` object"
   ]
  },
  {
   "cell_type": "code",
   "execution_count": 16,
   "metadata": {},
   "outputs": [],
   "source": [
    "def transform_item_list(item_list, api_source, access_type):\n",
    "    new_item_list = []\n",
    "    for item in item_list:\n",
    "        views = item['count'] if 'count' in item.keys() else item['views']\n",
    "        new_attribute = '%s_%s_views' % (api_source, access_type)\n",
    "        new_item = {'year':item['year'], 'month':item['month'], new_attribute:int(views)}\n",
    "        new_item_list.append(new_item)\n",
    "    return pd.DataFrame(new_item_list)"
   ]
  },
  {
   "cell_type": "markdown",
   "metadata": {},
   "source": [
    "We call this function on all of our processed data, with the appropriate flags, to get the `pandas DataFrames`."
   ]
  },
  {
   "cell_type": "code",
   "execution_count": 17,
   "metadata": {},
   "outputs": [],
   "source": [
    "df_legacy_desktop = transform_item_list(legacy_desktop_items, 'pagecount', 'desktop')\n",
    "df_legacy_mobile = transform_item_list(legacy_mobile_items, 'pagecount', 'mobile')\n",
    "df_pageviews_desktop = transform_item_list(pageviews_desktop_items, 'pageview', 'desktop')\n",
    "df_pageviews_mobile = transform_item_list(pageviews_mobile_items, 'pageview', 'mobile')"
   ]
  },
  {
   "cell_type": "markdown",
   "metadata": {},
   "source": [
    "Since each table has standardized `year` and `month` columns, as well as the right column name for its access and API type, we can use join operations to combine all this data. Every time, we perform a full outer join between datasets because we need to have entries for every single row where either dataset has an entry. We sequentially perform these joins until all data is included."
   ]
  },
  {
   "cell_type": "code",
   "execution_count": 24,
   "metadata": {},
   "outputs": [],
   "source": [
    "df_merge = df_legacy_desktop.merge(df_legacy_mobile, on=['year', 'month'], how='outer')\n",
    "df_merge = df_merge.merge(df_pageviews_desktop, on=['year', 'month'], how='outer')\n",
    "df_merge = df_merge.merge(df_pageviews_mobile, on=['year', 'month'], how='outer')"
   ]
  },
  {
   "cell_type": "markdown",
   "metadata": {},
   "source": [
    "We replace all `NaN` values with 0 for later calculations. Also, for redundancy, we ensure the views columns are integers."
   ]
  },
  {
   "cell_type": "code",
   "execution_count": 35,
   "metadata": {},
   "outputs": [],
   "source": [
    "df_merge = df_merge.fillna(0)\n",
    "\n",
    "for col in ['pagecount_desktop_views', 'pagecount_mobile_views', 'pageview_desktop_views', 'pageview_mobile_views']:\n",
    "    df_merge[col] = df_merge[col].astype('int')"
   ]
  },
  {
   "cell_type": "markdown",
   "metadata": {},
   "source": [
    "Finally, we add the `pagecount_all_views` and `pageview_all_views` columns by performing sum operations between the appropriate pairs of columns. Before saving, we view the final resulting table to ensure values look appropriate."
   ]
  },
  {
   "cell_type": "code",
   "execution_count": 38,
   "metadata": {},
   "outputs": [
    {
     "data": {
      "text/html": [
       "<div>\n",
       "<style scoped>\n",
       "    .dataframe tbody tr th:only-of-type {\n",
       "        vertical-align: middle;\n",
       "    }\n",
       "\n",
       "    .dataframe tbody tr th {\n",
       "        vertical-align: top;\n",
       "    }\n",
       "\n",
       "    .dataframe thead th {\n",
       "        text-align: right;\n",
       "    }\n",
       "</style>\n",
       "<table border=\"1\" class=\"dataframe\">\n",
       "  <thead>\n",
       "    <tr style=\"text-align: right;\">\n",
       "      <th></th>\n",
       "      <th>year</th>\n",
       "      <th>month</th>\n",
       "      <th>pagecount_desktop_views</th>\n",
       "      <th>pagecount_mobile_views</th>\n",
       "      <th>pageview_desktop_views</th>\n",
       "      <th>pageview_mobile_views</th>\n",
       "      <th>pagecount_all_views</th>\n",
       "      <th>pageview_all_views</th>\n",
       "    </tr>\n",
       "  </thead>\n",
       "  <tbody>\n",
       "    <tr>\n",
       "      <th>0</th>\n",
       "      <td>2008</td>\n",
       "      <td>01</td>\n",
       "      <td>4930902570</td>\n",
       "      <td>0</td>\n",
       "      <td>0</td>\n",
       "      <td>0</td>\n",
       "      <td>4930902570</td>\n",
       "      <td>0</td>\n",
       "    </tr>\n",
       "    <tr>\n",
       "      <th>1</th>\n",
       "      <td>2008</td>\n",
       "      <td>02</td>\n",
       "      <td>4818393763</td>\n",
       "      <td>0</td>\n",
       "      <td>0</td>\n",
       "      <td>0</td>\n",
       "      <td>4818393763</td>\n",
       "      <td>0</td>\n",
       "    </tr>\n",
       "    <tr>\n",
       "      <th>2</th>\n",
       "      <td>2008</td>\n",
       "      <td>03</td>\n",
       "      <td>4955405809</td>\n",
       "      <td>0</td>\n",
       "      <td>0</td>\n",
       "      <td>0</td>\n",
       "      <td>4955405809</td>\n",
       "      <td>0</td>\n",
       "    </tr>\n",
       "    <tr>\n",
       "      <th>3</th>\n",
       "      <td>2008</td>\n",
       "      <td>04</td>\n",
       "      <td>5159162183</td>\n",
       "      <td>0</td>\n",
       "      <td>0</td>\n",
       "      <td>0</td>\n",
       "      <td>5159162183</td>\n",
       "      <td>0</td>\n",
       "    </tr>\n",
       "    <tr>\n",
       "      <th>4</th>\n",
       "      <td>2008</td>\n",
       "      <td>05</td>\n",
       "      <td>5584691092</td>\n",
       "      <td>0</td>\n",
       "      <td>0</td>\n",
       "      <td>0</td>\n",
       "      <td>5584691092</td>\n",
       "      <td>0</td>\n",
       "    </tr>\n",
       "    <tr>\n",
       "      <th>...</th>\n",
       "      <td>...</td>\n",
       "      <td>...</td>\n",
       "      <td>...</td>\n",
       "      <td>...</td>\n",
       "      <td>...</td>\n",
       "      <td>...</td>\n",
       "      <td>...</td>\n",
       "      <td>...</td>\n",
       "    </tr>\n",
       "    <tr>\n",
       "      <th>147</th>\n",
       "      <td>2020</td>\n",
       "      <td>04</td>\n",
       "      <td>0</td>\n",
       "      <td>0</td>\n",
       "      <td>3798372613</td>\n",
       "      <td>5505741941</td>\n",
       "      <td>0</td>\n",
       "      <td>9304114554</td>\n",
       "    </tr>\n",
       "    <tr>\n",
       "      <th>148</th>\n",
       "      <td>2020</td>\n",
       "      <td>05</td>\n",
       "      <td>0</td>\n",
       "      <td>0</td>\n",
       "      <td>3078093615</td>\n",
       "      <td>5231700095</td>\n",
       "      <td>0</td>\n",
       "      <td>8309793710</td>\n",
       "    </tr>\n",
       "    <tr>\n",
       "      <th>149</th>\n",
       "      <td>2020</td>\n",
       "      <td>06</td>\n",
       "      <td>0</td>\n",
       "      <td>0</td>\n",
       "      <td>2721328557</td>\n",
       "      <td>4573975256</td>\n",
       "      <td>0</td>\n",
       "      <td>7295303813</td>\n",
       "    </tr>\n",
       "    <tr>\n",
       "      <th>150</th>\n",
       "      <td>2020</td>\n",
       "      <td>07</td>\n",
       "      <td>0</td>\n",
       "      <td>0</td>\n",
       "      <td>2638936132</td>\n",
       "      <td>4809714465</td>\n",
       "      <td>0</td>\n",
       "      <td>7448650597</td>\n",
       "    </tr>\n",
       "    <tr>\n",
       "      <th>151</th>\n",
       "      <td>2020</td>\n",
       "      <td>08</td>\n",
       "      <td>0</td>\n",
       "      <td>0</td>\n",
       "      <td>2613058239</td>\n",
       "      <td>4803308661</td>\n",
       "      <td>0</td>\n",
       "      <td>7416366900</td>\n",
       "    </tr>\n",
       "  </tbody>\n",
       "</table>\n",
       "<p>152 rows × 8 columns</p>\n",
       "</div>"
      ],
      "text/plain": [
       "     year month  pagecount_desktop_views  pagecount_mobile_views  \\\n",
       "0    2008    01               4930902570                       0   \n",
       "1    2008    02               4818393763                       0   \n",
       "2    2008    03               4955405809                       0   \n",
       "3    2008    04               5159162183                       0   \n",
       "4    2008    05               5584691092                       0   \n",
       "..    ...   ...                      ...                     ...   \n",
       "147  2020    04                        0                       0   \n",
       "148  2020    05                        0                       0   \n",
       "149  2020    06                        0                       0   \n",
       "150  2020    07                        0                       0   \n",
       "151  2020    08                        0                       0   \n",
       "\n",
       "     pageview_desktop_views  pageview_mobile_views  pagecount_all_views  \\\n",
       "0                         0                      0           4930902570   \n",
       "1                         0                      0           4818393763   \n",
       "2                         0                      0           4955405809   \n",
       "3                         0                      0           5159162183   \n",
       "4                         0                      0           5584691092   \n",
       "..                      ...                    ...                  ...   \n",
       "147              3798372613             5505741941                    0   \n",
       "148              3078093615             5231700095                    0   \n",
       "149              2721328557             4573975256                    0   \n",
       "150              2638936132             4809714465                    0   \n",
       "151              2613058239             4803308661                    0   \n",
       "\n",
       "     pageview_all_views  \n",
       "0                     0  \n",
       "1                     0  \n",
       "2                     0  \n",
       "3                     0  \n",
       "4                     0  \n",
       "..                  ...  \n",
       "147          9304114554  \n",
       "148          8309793710  \n",
       "149          7295303813  \n",
       "150          7448650597  \n",
       "151          7416366900  \n",
       "\n",
       "[152 rows x 8 columns]"
      ]
     },
     "execution_count": 38,
     "metadata": {},
     "output_type": "execute_result"
    }
   ],
   "source": [
    "df_merge['pagecount_all_views'] = df_merge['pagecount_desktop_views'] + df_merge['pagecount_mobile_views']\n",
    "df_merge['pageview_all_views'] = df_merge['pageview_desktop_views'] + df_merge['pageview_mobile_views']\n",
    "df_merge"
   ]
  },
  {
   "cell_type": "markdown",
   "metadata": {},
   "source": [
    "### Saving File\n",
    "\n",
    "We are now ready to save this table as a CSV, to the file named `en-wikipedia_traffic_200712-202008.csv` in this repository."
   ]
  },
  {
   "cell_type": "code",
   "execution_count": 40,
   "metadata": {},
   "outputs": [],
   "source": [
    "df_merge.to_csv('en-wikipedia_traffic_200712-202008.csv', index=False)"
   ]
  },
  {
   "cell_type": "markdown",
   "metadata": {},
   "source": [
    "## Step 3: Analyzing Data\n",
    "\n",
    "Given all of this data, we will visualize mobile, desktop, and 'all' (the total of the two) traffic data via a time series representation. \n",
    "\n",
    "### Load CSV\n",
    "\n",
    "We first load (for completeness) the CSV file we just created, as a new `pandas DataFrame` object."
   ]
  },
  {
   "cell_type": "code",
   "execution_count": 43,
   "metadata": {},
   "outputs": [],
   "source": [
    "df = pd.read_csv('en-wikipedia_traffic_200712-202008.csv')"
   ]
  },
  {
   "cell_type": "markdown",
   "metadata": {},
   "source": [
    "### Visualizing Time Series Data\n",
    "\n",
    "First, we rework the index of the dataframe we loaded. By setting the index to a transformed version of the `year` and `month` columns (via an in-built date-time convertor in `pandas`), we can easily use that as the x-axis on which the plot is built."
   ]
  },
  {
   "cell_type": "code",
   "execution_count": 93,
   "metadata": {},
   "outputs": [],
   "source": [
    "df_reindexed = df.set_index(pd.to_datetime(df[['year', 'month']].assign(day=1)))"
   ]
  },
  {
   "cell_type": "markdown",
   "metadata": {},
   "source": [
    "Then, we create the subplots on which the visualization will appear. To perform the plotting, we simply plot all of the views columns of the re-indexed dataframe, onto the same `Axis` object. Note that to avoid clutter we only plot non-zero sections of the data.\n",
    "\n",
    "The final step is cleaning up the chart. We set titles, axis labels, and a custom legend per the colors we manually provided to the plot. The resulting image is below!"
   ]
  },
  {
   "cell_type": "code",
   "execution_count": null,
   "metadata": {},
   "outputs": [],
   "source": [
    "fig, ax = plt.subplots(figsize=(15,5))\n",
    "\n",
    "ax = df_reindexed[df_reindexed['pagecount_desktop_views'] != 0]['pagecount_desktop_views'].plot(color='green')\n",
    "ax = df_reindexed[df_reindexed['pagecount_mobile_views'] != 0]['pagecount_mobile_views'].plot(color='blue')\n",
    "ax = df_reindexed[df_reindexed['pageview_desktop_views'] != 0]['pageview_desktop_views'].plot(color='green')\n",
    "ax = df_reindexed[df_reindexed['pageview_mobile_views'] != 0]['pageview_mobile_views'].plot(color='blue')\n",
    "ax = df_reindexed[df_reindexed['pagecount_all_views'] != 0]['pagecount_all_views'].plot(color='black')\n",
    "ax = df_reindexed[df_reindexed['pageview_all_views'] != 0]['pageview_all_views'].plot(color='black')\n",
    "\n",
    "ax.set_title('Page Views on English Wikipedia (x 10,000,000,000)')\n",
    "ax.set_xlabel('Year')\n",
    "ax.set_ylabel('Number of Views')\n",
    "\n",
    "colors = ['green', 'blue', 'black']\n",
    "lines = [Line2D([0], [0], color=c, linewidth=3) for c in colors]\n",
    "labels = ['main site', 'mobile site', 'total']\n",
    "ax.legend(lines, labels, loc='upper left')\n",
    "\n",
    "plt.show()"
   ]
  },
  {
   "cell_type": "markdown",
   "metadata": {},
   "source": [
    "### Saving Visualization\n",
    "\n",
    "Finally, we can save the visualization as a PNG file in this same repository, under the filename seen below:"
   ]
  },
  {
   "cell_type": "code",
   "execution_count": 92,
   "metadata": {},
   "outputs": [],
   "source": [
    "fig.savefig('visalization.png')"
   ]
  },
  {
   "cell_type": "code",
   "execution_count": null,
   "metadata": {},
   "outputs": [],
   "source": []
  }
 ],
 "metadata": {
  "kernelspec": {
   "display_name": "Python 3",
   "language": "python",
   "name": "python3"
  },
  "language_info": {
   "codemirror_mode": {
    "name": "ipython",
    "version": 3
   },
   "file_extension": ".py",
   "mimetype": "text/x-python",
   "name": "python",
   "nbconvert_exporter": "python",
   "pygments_lexer": "ipython3",
   "version": "3.7.6"
  }
 },
 "nbformat": 4,
 "nbformat_minor": 4
}
